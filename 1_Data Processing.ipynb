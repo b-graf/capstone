{
 "cells": [
  {
   "cell_type": "markdown",
   "metadata": {},
   "source": [
    "## Data Screening and Processing\n",
    "    Project: Capstone\n",
    "    Author:  Benedikt Graf\n",
    "    Version: 11-22-2021"
   ]
  },
  {
   "cell_type": "markdown",
   "metadata": {},
   "source": [
    "### Import Packages abd Setup Environemnt"
   ]
  },
  {
   "cell_type": "code",
   "execution_count": null,
   "metadata": {},
   "outputs": [],
   "source": [
    "import pandas as pd                     # for data handling\n",
    "import numpy as np                      # for numerical methods and data structures\n",
    "import latex                            # mathematical expressions  \n",
    "import re                               # regular expressions\n",
    "import matplotlib.pyplot as plt         # for plotting\n",
    "from matplotlib import font_manager     # for advanced fonts"
   ]
  },
  {
   "cell_type": "code",
   "execution_count": null,
   "metadata": {},
   "outputs": [],
   "source": [
    "%%javascript\n",
    "\n",
    "window.scroll_flag = true\n",
    "window.scroll_exit = false\n",
    "window.scroll_delay = 100\n",
    "\n",
    "$(\".output_scroll\").each(function() {\n",
    "    $(this)[0].scrollTop = $(this)[0].scrollHeight;\n",
    "});\n",
    "\n",
    "function callScrollToBottom() {\n",
    "    setTimeout(scrollToBottom, window.scroll_delay);\n",
    "}\n",
    "\n",
    "function scrollToBottom() {\n",
    "    if (window.scroll_exit) {\n",
    "        return;\n",
    "    }\n",
    "    if (!window.scroll_flag) {\n",
    "        callScrollToBottom();\n",
    "        return;\n",
    "    };\n",
    "    \n",
    "    $(\".output_scroll\").each(function() {\n",
    "        if (!$(this).attr('scroll_checkbox')){\n",
    "            window.scroll_flag = true;\n",
    "            $(this).attr('scroll_checkbox',true);\n",
    "            var div = document.createElement('div');\n",
    "            var checkbox = document.createElement('input');\n",
    "            checkbox.type = \"checkbox\";\n",
    "            checkbox.onclick = function(){window.scroll_flag = checkbox.checked}\n",
    "            checkbox.checked = \"checked\"\n",
    "            div.append(\"Auto-Scroll-To-Bottom: \");\n",
    "            div.append(checkbox);\n",
    "            $(this).parent().before(div);\n",
    "        }\n",
    "        \n",
    "        $(this)[0].scrollTop = $(this)[0].scrollHeight;\n",
    "    });\n",
    "    callScrollToBottom();\n",
    "}\n",
    "scrollToBottom(); \n"
   ]
  },
  {
   "cell_type": "markdown",
   "metadata": {},
   "source": [
    "### Load Raw Data"
   ]
  },
  {
   "cell_type": "code",
   "execution_count": null,
   "metadata": {},
   "outputs": [],
   "source": [
    "data = pd.read_stata(\"./data/tocodeparish/placestocodeparish.dta\")\n",
    "# Save a copy of orginal birthplace variable\n",
    "data[\"og_ns_birtphlace\"] = data[\"ns_birthplace\"]\n"
   ]
  },
  {
   "cell_type": "code",
   "execution_count": null,
   "metadata": {
    "scrolled": true
   },
   "outputs": [],
   "source": [
    "data.shape\n"
   ]
  },
  {
   "cell_type": "code",
   "execution_count": null,
   "metadata": {},
   "outputs": [],
   "source": [
    "# defining missing values\n",
    "data[\"birthcountry\"] = data[\"birthcountry\"].replace({'': np.NaN, ' ': np.NaN, 'Unknown': np.NaN, \"Sw\":\"Sweden\"})\n",
    "data[\"birthcounty\"] = data[\"birthcounty\"].replace({'': np.NaN, ' ': np.NaN, 'NA': np.NaN, 'Unknown': np.NaN})\n",
    "data[\"ns_birthplace\"] = data[\"ns_birthplace\"].replace({'': np.NaN, ' ': np.NaN, 'NA': np.NaN, 'Unknown': np.NaN})\n",
    "data[\"birthplace\"] = data[\"birthplace\"].replace({'': np.NaN, ' ': np.NaN, 'NA': np.NaN, 'Unknown': np.NaN})\n"
   ]
  },
  {
   "cell_type": "markdown",
   "metadata": {},
   "source": [
    "### Describe Raw Data (Table 1, a)"
   ]
  },
  {
   "cell_type": "code",
   "execution_count": null,
   "metadata": {},
   "outputs": [],
   "source": [
    "# measure length of strings\n",
    "data['length']  = data['ns_birthplace'].str.len()\n"
   ]
  },
  {
   "cell_type": "code",
   "execution_count": null,
   "metadata": {
    "scrolled": true
   },
   "outputs": [],
   "source": [
    "# susbet to non-zero length strings\n",
    "plot_data = data[(data['length'] != 0)]\n",
    "plot_data['length'].describe()"
   ]
  },
  {
   "cell_type": "markdown",
   "metadata": {},
   "source": [
    "### Pre-Processing "
   ]
  },
  {
   "cell_type": "code",
   "execution_count": null,
   "metadata": {},
   "outputs": [],
   "source": [
    "# fill missing values in ns_birthplace column with birthplace value\n",
    "data[\"ns_birthplace\"].fillna(data[\"birthplace\"], inplace=True)\n"
   ]
  },
  {
   "cell_type": "code",
   "execution_count": null,
   "metadata": {},
   "outputs": [],
   "source": [
    "data[\"birthcountry\"] = data[\"birthcountry\"].replace({np.NaN : ''})\n",
    "data[\"birthcounty\"] = data[\"birthcounty\"].replace({np.NaN : ''})\n",
    "data[\"ns_birthplace\"] = data[\"ns_birthplace\"].replace({np.NaN : ''})\n",
    "data[\"birthplace\"] = data[\"birthplace\"].replace({np.NaN : ''})\n"
   ]
  },
  {
   "cell_type": "code",
   "execution_count": null,
   "metadata": {},
   "outputs": [],
   "source": [
    "by_country = data.groupby(by = 'birthcountry').count()\n",
    "by_country\n",
    "pd.DataFrame(by_country[\"fsid\"].sort_values(ascending=False,)).head(5)\n"
   ]
  },
  {
   "cell_type": "code",
   "execution_count": null,
   "metadata": {},
   "outputs": [],
   "source": [
    "#energy['Country'].str.replace(r'[...]', np.nan)\n",
    "#data[data[\"ns_birthplace\"].str.contains(\"Nederkalix\")]\n"
   ]
  },
  {
   "cell_type": "code",
   "execution_count": null,
   "metadata": {},
   "outputs": [],
   "source": [
    "data[data[\"ns_birthplace\"].str.contains(\"Kopparberg\")].sample(10)"
   ]
  },
  {
   "cell_type": "markdown",
   "metadata": {},
   "source": [
    "#### Replace Punctuation, Common Abbreviations"
   ]
  },
  {
   "cell_type": "code",
   "execution_count": null,
   "metadata": {
    "scrolled": true
   },
   "outputs": [],
   "source": [
    "# replace some strings\n",
    "\n",
    "### Punctuation ###\n",
    "data[\"ns_birthplace\"] = data[\"ns_birthplace\"].str.replace(',', ' ')\n",
    "data[\"ns_birthplace\"] = data[\"ns_birthplace\"].str.replace('/', ' ')\n",
    "data[\"ns_birthplace\"] = data[\"ns_birthplace\"].str.replace('-', ' ')\n",
    "data[\"ns_birthplace\"] = data[\"ns_birthplace\"].str.replace(';', ' ')\n",
    "data[\"ns_birthplace\"] = data[\"ns_birthplace\"].str.replace(':', '')\n",
    "data[\"ns_birthplace\"] = data[\"ns_birthplace\"].str.replace('.', '')\n",
    "data[\"ns_birthplace\"] = data[\"ns_birthplace\"].str.replace('<', '')\n",
    "data[\"ns_birthplace\"] = data[\"ns_birthplace\"].str.replace('>', '')\n",
    "data[\"ns_birthplace\"] = data[\"ns_birthplace\"].str.replace('(', '')\n",
    "data[\"ns_birthplace\"] = data[\"ns_birthplace\"].str.replace(')', '')\n",
    "data[\"ns_birthplace\"] = data[\"ns_birthplace\"].str.replace(' Lan ', '')\n",
    "data[\"ns_birthplace\"] = data[\"ns_birthplace\"].str.replace(' län ', '')\n",
    "\n",
    "\n",
    "### Sweden ###\n",
    "data[\"ns_birthplace\"] = data[\"ns_birthplace\"].str.replace('SWEDEN', 'Sweden')\n",
    "data[\"ns_birthplace\"] = data[\"ns_birthplace\"].str.replace('SVERIGE', 'Sverige')\n",
    "data[\"ns_birthplace\"] = data[\"ns_birthplace\"].str.replace('SUECIA', 'Sweden')\n",
    "data[\"ns_birthplace\"] = data[\"ns_birthplace\"].str.replace('Schweden', 'Sweden')\n",
    "data[\"ns_birthplace\"] = data[\"ns_birthplace\"].str.replace('SCHWEDEN', 'Sweden')\n",
    "data[\"ns_birthplace\"] = data[\"ns_birthplace\"].str.replace('Suède', 'Sweden')\n",
    "\n",
    "### Counties ###\n",
    "\n",
    "## Älvsborg\n",
    "data[\"ns_birthplace\"] = data[\"ns_birthplace\"].str.replace('Alvsbr', 'Älvsborg')\n",
    "data[\"ns_birthplace\"] = data[\"ns_birthplace\"].str.replace('Alvsbg', 'Älvsborg')\n",
    "data[\"ns_birthplace\"] = data[\"ns_birthplace\"].str.replace('Alvsborg', 'Älvsborg')\n",
    "data[\"ns_birthplace\"] = data[\"ns_birthplace\"].str.replace(' Älv ', 'Älvsborg')\n",
    "\n",
    "## Blekinge\n",
    "data[\"ns_birthplace\"] = data[\"ns_birthplace\"].str.replace('Blkng', 'Blekinge')\n",
    "data[\"ns_birthplace\"] = data[\"ns_birthplace\"].str.replace('Blkg', 'Blekinge')\n",
    "\n",
    "## Dalarna\n",
    "mask = (data.birthcounty == \"Dalarna\")\n",
    "data.loc[mask, 'ns_birthplace'] =  data.loc[mask, 'ns_birthplace'].str.replace('Kopparberg', 'Dalarna')\n",
    "\n",
    "## Gävleborg\n",
    "data[\"ns_birthplace\"] = data[\"ns_birthplace\"].str.replace('GAVLBG', 'Gävleborg')\n",
    "data[\"ns_birthplace\"] = data[\"ns_birthplace\"].str.replace('GAVLEBORG', 'Gävleborg')\n",
    "data[\"ns_birthplace\"] = data[\"ns_birthplace\"].str.replace('Gavleborg', 'Gävleborg')\n",
    "data[\"ns_birthplace\"] = data[\"ns_birthplace\"].str.replace('Gvleborg', 'Gävleborg')\n",
    "data[\"ns_birthplace\"] = data[\"ns_birthplace\"].str.replace('Gavlbg', 'Gävleborg')\n",
    "data[\"ns_birthplace\"] = data[\"ns_birthplace\"].str.replace('Gvlbrg', 'Gävleborg')\n",
    "\n",
    "## Göteborg och Bohus\n",
    "data[\"ns_birthplace\"] = data[\"ns_birthplace\"].str.replace('G O Bh', 'Göteborg och Bohus')\n",
    "data[\"ns_birthplace\"] = data[\"ns_birthplace\"].str.replace('G O BH', 'Göteborg och Bohus')\n",
    "data[\"ns_birthplace\"] = data[\"ns_birthplace\"].str.replace('G o Bh', 'Göteborg och Bohus')\n",
    "data[\"ns_birthplace\"] = data[\"ns_birthplace\"].str.replace('G Bhs', 'Göteborg och Bohus')\n",
    "data[\"ns_birthplace\"] = data[\"ns_birthplace\"].str.replace('G&BH', 'Göteborg och Bohus')\n",
    "data[\"ns_birthplace\"] = data[\"ns_birthplace\"].str.replace('Got & Bh', 'Göteborg och Bohus')\n",
    "data[\"ns_birthplace\"] = data[\"ns_birthplace\"].str.replace('Got & B', 'Göteborg och Bohus')\n",
    "data[\"ns_birthplace\"] = data[\"ns_birthplace\"].str.replace('Gotebg Bohus', 'Göteborg och Bohus')\n",
    "data[\"ns_birthplace\"] = data[\"ns_birthplace\"].str.replace('Goteborg o Bohus', 'Göteborg och Bohus')\n",
    "data[\"ns_birthplace\"] = data[\"ns_birthplace\"].str.replace('Goteborg O Bohus', 'Göteborg och Bohus')\n",
    "data[\"ns_birthplace\"] = data[\"ns_birthplace\"].str.replace('Goteborg Bohus', 'Göteborg och Bohus')\n",
    "data[\"ns_birthplace\"] = data[\"ns_birthplace\"].str.replace('Goteborg och Bohus', 'Göteborg och Bohus')\n",
    "data[\"ns_birthplace\"] = data[\"ns_birthplace\"].str.replace('Göteborgs And Bohus', 'Göteborg och Bohus')\n",
    "\n",
    "# Halland\n",
    "data[\"ns_birthplace\"] = data[\"ns_birthplace\"].str.replace('HALLAND', 'Halland')\n",
    "\n",
    "## Jämtland\n",
    "data[\"ns_birthplace\"] = data[\"ns_birthplace\"].str.replace('Jamtland', 'Jämtland')\n",
    "data[\"ns_birthplace\"] = data[\"ns_birthplace\"].str.replace('Jmtlnd', 'Jämtland')\n",
    "data[\"ns_birthplace\"] = data[\"ns_birthplace\"].str.replace('Jamtld', 'Jämtland')\n",
    "data[\"ns_birthplace\"] = data[\"ns_birthplace\"].str.replace('Jmtld', 'Jämtland')\n",
    "\n",
    "## Jönköping\n",
    "data[\"ns_birthplace\"] = data[\"ns_birthplace\"].str.replace('Jonkoping', 'Jönköping')\n",
    "data[\"ns_birthplace\"] = data[\"ns_birthplace\"].str.replace('Jnkping', 'Jönköping')\n",
    "data[\"ns_birthplace\"] = data[\"ns_birthplace\"].str.replace('Jonkpg', 'Jönköping')\n",
    "data[\"ns_birthplace\"] = data[\"ns_birthplace\"].str.replace('Jnkpng', 'Jönköping')\n",
    "data[\"ns_birthplace\"] = data[\"ns_birthplace\"].str.replace('Jknpng', 'Jönköping')\n",
    "data[\"ns_birthplace\"] = data[\"ns_birthplace\"].str.replace('Jkpg', 'Jönköping')\n",
    "\n",
    "## Kalmar\n",
    "data[\"ns_birthplace\"] = data[\"ns_birthplace\"].str.replace('KALMAR', 'Kalmar')\n",
    "\n",
    "## Kronoberg\n",
    "data[\"ns_birthplace\"] = data[\"ns_birthplace\"].str.replace('KRONOBERG', 'Kronoberg')\n",
    "data[\"ns_birthplace\"] = data[\"ns_birthplace\"].str.replace('Krnbrg', 'Kronoberg')\n",
    "data[\"ns_birthplace\"] = data[\"ns_birthplace\"].str.replace('Kronbg', 'Kronoberg')\n",
    "data[\"ns_birthplace\"] = data[\"ns_birthplace\"].str.replace('Kronobg', 'Kronoberg')\n",
    "\n",
    "## Skaraborg\n",
    "data[\"ns_birthplace\"] = data[\"ns_birthplace\"].str.replace('Skrbrg', 'Skaraborg')\n",
    "data[\"ns_birthplace\"] = data[\"ns_birthplace\"].str.replace('Skarabg', 'Skaraborg')\n",
    "\n",
    "## Skåne\n",
    "data[\"ns_birthplace\"] = data[\"ns_birthplace\"].str.replace('Skane', 'Skåne')\n",
    "data[\"ns_birthplace\"] = data[\"ns_birthplace\"].str.replace(' Skne ', 'Skåne')\n",
    "\n",
    "## Småland\n",
    "data[\"ns_birthplace\"] = data[\"ns_birthplace\"].str.replace('Smaland', 'Småland')\n",
    "data[\"ns_birthplace\"] = data[\"ns_birthplace\"].str.replace('SMALAND', 'Småland')\n",
    "\n",
    "## Södermanland\n",
    "data[\"ns_birthplace\"] = data[\"ns_birthplace\"].str.replace('Sadermanland', 'Södermanland')\n",
    "data[\"ns_birthplace\"] = data[\"ns_birthplace\"].str.replace('Sodmld', 'Södermanland')\n",
    "data[\"ns_birthplace\"] = data[\"ns_birthplace\"].str.replace('Sdrmnl', 'Södermanland')\n",
    "data[\"ns_birthplace\"] = data[\"ns_birthplace\"].str.replace('S Manld', 'Södermanland')\n",
    "\n",
    "## Stockholm\n",
    "data[\"ns_birthplace\"] = data[\"ns_birthplace\"].str.replace('Stklm', 'Stockholm')\n",
    "data[\"ns_birthplace\"] = data[\"ns_birthplace\"].str.replace('Sthlm', 'Stockholm')\n",
    "\n",
    "# Malmöhus\n",
    "data[\"ns_birthplace\"] = data[\"ns_birthplace\"].str.replace('MALMOHUS', 'Malmöhus')\n",
    "data[\"ns_birthplace\"] = data[\"ns_birthplace\"].str.replace('Malmohus', 'Malmöhus')\n",
    "data[\"ns_birthplace\"] = data[\"ns_birthplace\"].str.replace('Malmhs', 'Malmöhus')\n",
    "data[\"ns_birthplace\"] = data[\"ns_birthplace\"].str.replace('Mlmhs', 'Malmöhus')\n",
    "\n",
    "## Norrbotten\n",
    "data[\"ns_birthplace\"] = data[\"ns_birthplace\"].str.replace('NORRBOTTEN', 'Norrbotten')\n",
    "data[\"ns_birthplace\"] = data[\"ns_birthplace\"].str.replace('Nrrbtt', 'Norrbotten')\n",
    "data[\"ns_birthplace\"] = data[\"ns_birthplace\"].str.replace('Nrrbtn', 'Norrbotten')\n",
    "data[\"ns_birthplace\"] = data[\"ns_birthplace\"].str.replace('N bottn', 'Norrbotten')\n",
    "data[\"ns_birthplace\"] = data[\"ns_birthplace\"].str.replace(' Norrb ', 'Norrbotten')\n",
    "data[\"ns_birthplace\"] = data[\"ns_birthplace\"].str.replace('N Bottn', 'Norrbotten')\n",
    "data[\"ns_birthplace\"] = data[\"ns_birthplace\"].str.replace('Nbtn', 'Norrbotten')\n",
    "data[\"ns_birthplace\"] = data[\"ns_birthplace\"].str.replace('Nrrb', 'Norrbotten')\n",
    "data[\"ns_birthplace\"] = data[\"ns_birthplace\"].str.replace('Nrb', 'Norrbotten')\n",
    "\n",
    "## Östergötland\n",
    "data[\"ns_birthplace\"] = data[\"ns_birthplace\"].str.replace('OSTERGOTLAND', 'Östergötland')\n",
    "data[\"ns_birthplace\"] = data[\"ns_birthplace\"].str.replace('Ostergotland', 'Östergötland')\n",
    "data[\"ns_birthplace\"] = data[\"ns_birthplace\"].str.replace('Ostrgt', 'Östergötland')\n",
    "data[\"ns_birthplace\"] = data[\"ns_birthplace\"].str.replace('Ogtld', 'Östergötland')\n",
    "data[\"ns_birthplace\"] = data[\"ns_birthplace\"].str.replace('O Gotld', 'Östergötland')\n",
    "data[\"ns_birthplace\"] = data[\"ns_birthplace\"].str.replace('O Gtld', 'Östergötland')\n",
    "\n",
    "## Örebro\n",
    "data[\"ns_birthplace\"] = data[\"ns_birthplace\"].str.replace(' Orebro ', 'Örebro')\n",
    "data[\"ns_birthplace\"] = data[\"ns_birthplace\"].str.replace(' ÖRE ', 'Örebro')\n",
    "\n",
    "## Västerbotten\n",
    "data[\"ns_birthplace\"] = data[\"ns_birthplace\"].str.replace('VASTERBOTTEN', 'Västerbotten')\n",
    "data[\"ns_birthplace\"] = data[\"ns_birthplace\"].str.replace('Vasterbotten', 'Västerbotten')\n",
    "data[\"ns_birthplace\"] = data[\"ns_birthplace\"].str.replace('Vsterbotten', 'Västerbotten')\n",
    "data[\"ns_birthplace\"] = data[\"ns_birthplace\"].str.replace('Vesterbotten', 'Västerbotten')\n",
    "data[\"ns_birthplace\"] = data[\"ns_birthplace\"].str.replace('Vstrbt', 'Västerbotten')\n",
    "data[\"ns_birthplace\"] = data[\"ns_birthplace\"].str.replace('Vbtn', 'Västerbotten')\n",
    "data[\"ns_birthplace\"] = data[\"ns_birthplace\"].str.replace('Vstb', 'Västerbotten')\n",
    "data[\"ns_birthplace\"] = data[\"ns_birthplace\"].str.replace('Vbottn', 'Västerbotten')\n",
    "data[\"ns_birthplace\"] = data[\"ns_birthplace\"].str.replace('V bott', 'Västerbotten')\n",
    "\n",
    "## Västernorrland\n",
    "data[\"ns_birthplace\"] = data[\"ns_birthplace\"].str.replace('VÄSTERNORRLAND', 'Västernorrland')\n",
    "data[\"ns_birthplace\"] = data[\"ns_birthplace\"].str.replace('VASTERNORRLAND', 'Västernorrland')\n",
    "data[\"ns_birthplace\"] = data[\"ns_birthplace\"].str.replace('Vasternorrland', 'Västernorrland')\n",
    "data[\"ns_birthplace\"] = data[\"ns_birthplace\"].str.replace('Vsternorrland', 'Västernorrland')\n",
    "data[\"ns_birthplace\"] = data[\"ns_birthplace\"].str.replace('Vstrnr', 'Västernorrland')\n",
    "data[\"ns_birthplace\"] = data[\"ns_birthplace\"].str.replace('Vnorld', 'Västernorrland')\n",
    "data[\"ns_birthplace\"] = data[\"ns_birthplace\"].str.replace('V Norrld', 'Västernorrland')\n",
    "data[\"ns_birthplace\"] = data[\"ns_birthplace\"].str.replace('V Norld', 'Västernorrland')\n",
    "\n",
    "## Västmanland\n",
    "data[\"ns_birthplace\"] = data[\"ns_birthplace\"].str.replace('VASTMANLAND', 'Västmanland')\n",
    "data[\"ns_birthplace\"] = data[\"ns_birthplace\"].str.replace('Vastmanland', 'Västmanland')\n",
    "data[\"ns_birthplace\"] = data[\"ns_birthplace\"].str.replace('Vstmanland', 'Västmanland')\n",
    "data[\"ns_birthplace\"] = data[\"ns_birthplace\"].str.replace('Vstmnl', 'Västmanland')\n",
    "\n",
    "## Värmland\n",
    "data[\"ns_birthplace\"] = data[\"ns_birthplace\"].str.replace('VARMLAND', 'Värmland')\n",
    "data[\"ns_birthplace\"] = data[\"ns_birthplace\"].str.replace('Varmland', 'Värmland')\n",
    "data[\"ns_birthplace\"] = data[\"ns_birthplace\"].str.replace('Varmld', 'Värmland')\n",
    "data[\"ns_birthplace\"] = data[\"ns_birthplace\"].str.replace('Vrmland', 'Värmland')\n",
    "data[\"ns_birthplace\"] = data[\"ns_birthplace\"].str.replace('Vrmlnd', 'Värmland')\n",
    "\n",
    "## Gotland\n",
    "data[\"ns_birthplace\"] = data[\"ns_birthplace\"].str.replace('Gtlnd', 'Gotland')\n",
    "data[\"ns_birthplace\"] = data[\"ns_birthplace\"].str.replace('Gtln', 'Gotland')\n",
    "\n",
    "\n",
    "### Miscellaneous ###\n",
    "data[\"ns_birthplace\"] = data[\"ns_birthplace\"].str.replace('FARILA', 'Farila')\n",
    "data[\"ns_birthplace\"] = data[\"ns_birthplace\"].str.replace('MALMÖ', 'Malmö')\n",
    "data[\"ns_birthplace\"] = data[\"ns_birthplace\"].str.replace('GOTHENBURG', 'Gothenburg')\n",
    "data[\"ns_birthplace\"] = data[\"ns_birthplace\"].str.replace('KOPPARBERG', 'Kopparberg')\n",
    "data[\"ns_birthplace\"] = data[\"ns_birthplace\"].str.replace('KRISTIANSTAD', 'Kristianstad')\n",
    "data[\"ns_birthplace\"] = data[\"ns_birthplace\"].str.replace('KPPBR', 'Kopparberg')\n",
    "data[\"ns_birthplace\"] = data[\"ns_birthplace\"].str.replace('KPPRBR', 'Kopparberg')\n",
    "data[\"ns_birthplace\"] = data[\"ns_birthplace\"].str.replace('Kpprbr', 'Kopparberg')\n",
    "data[\"ns_birthplace\"] = data[\"ns_birthplace\"].str.replace('Koppbg', 'Kopparberg')\n",
    "data[\"ns_birthplace\"] = data[\"ns_birthplace\"].str.replace('Kppbrg', 'Kopparberg')\n",
    "data[\"ns_birthplace\"] = data[\"ns_birthplace\"].str.replace('Kopparbergs', 'Kopparberg')"
   ]
  },
  {
   "cell_type": "markdown",
   "metadata": {},
   "source": [
    "#### Restrict Sample to Sweden"
   ]
  },
  {
   "cell_type": "code",
   "execution_count": null,
   "metadata": {},
   "outputs": [],
   "source": [
    "to_query = data[(data['birthcountry'] == 'Sweden') | (data[\"birthcountry\"] == \"\")].reset_index(drop=True)\n",
    "total_post = to_query.shape[0]\n",
    "# drop duplicate values\n",
    "to_query = to_query.drop_duplicates(subset=['ns_birthplace']).reset_index(drop = True)"
   ]
  },
  {
   "cell_type": "markdown",
   "metadata": {},
   "source": [
    "#### Loop to Split Observations by Word Capitalization"
   ]
  },
  {
   "cell_type": "code",
   "execution_count": null,
   "metadata": {
    "scrolled": true
   },
   "outputs": [],
   "source": [
    "for i in range(0,len(to_query)):\n",
    "    #if \" \" not in (to_query['ns_birthplace'].loc[i]):\n",
    " \n",
    "        # split strings to list by capitlization\n",
    "    s = to_query['ns_birthplace'].loc[i]\n",
    "        #print(s)\n",
    "    \n",
    "    res = False\n",
    "    \n",
    "    for ele in s:\n",
    "        if ele.isupper():\n",
    "            res = True\n",
    "            break\n",
    "           \n",
    "    if res == True:\n",
    "    # checking for uppercase character and flagging\n",
    "        \n",
    "        pos = [j for j,e in enumerate(s+'A') if e.isupper()]\n",
    "        list_ = [s[pos[k]:pos[k+1]] for k in range(len(pos)-1)]\n",
    "        \n",
    "        # reform stings that were all caps as single words\n",
    "        word = \"\"\n",
    "        for a in list_:\n",
    "            if a.isupper():\n",
    "                word += str(a)\n",
    "                word = word.title()\n",
    "        \n",
    "        if word != \"\":\n",
    "            counter = 0\n",
    "            for b in list_:\n",
    "                if counter < 1:\n",
    "                    if b.isupper():\n",
    "                        list_[list_.index(b)] = word\n",
    "                        counter += 1\n",
    "\n",
    "            for c in list_[:]:\n",
    "                print(c)\n",
    "                if c.isupper():\n",
    "                    list_.remove(c)\n",
    "               \n",
    "        # update last word to Sweden\n",
    "#        if (len(list_) > 1):\n",
    "#            if ((list_[-1] == \"Swed\") or (list_[-1] == \"Swd\") or \n",
    "#                (list_[-1] == \"Swe\") or (list_[-1] == \"Swdn\")):\n",
    "#                list_[-1] = \"Sweden\"\n",
    "        \n",
    "        #if \" \" not in (to_query['ns_birthplace'].loc[i]):\n",
    "        string = \" \".join(list_)\n",
    "        res = \" \".join(string.split())\n",
    "        #else:\n",
    "        #    string = \"\".join(list_)\n",
    "            \n",
    "        to_query['ns_birthplace'].loc[i] = res\n",
    "            \n",
    "        print(s, \"→\", to_query['ns_birthplace'].loc[i])\n",
    "        "
   ]
  },
  {
   "cell_type": "markdown",
   "metadata": {},
   "source": [
    "#### Loop to Standardize Names"
   ]
  },
  {
   "cell_type": "code",
   "execution_count": null,
   "metadata": {
    "scrolled": true
   },
   "outputs": [],
   "source": [
    "matches = [\"Sweden\", \"Sverige\", \"United States\"]\n",
    "\n",
    "for i in range(0,len(to_query)):\n",
    "    \n",
    "    s = to_query['ns_birthplace'].loc[i]\n",
    "    s_list = s.split()\n",
    "    \n",
    "    # some of the trickier renames\n",
    "    for j in range(0,len(s_list)):\n",
    "        \n",
    "        if s_list[j] == \"Upps\":\n",
    "            s_list[j] = \"Uppsala\"\n",
    "        \n",
    "        if s_list[j] == \"Gotl\":\n",
    "            s_list[j] = \"Gotland\"\n",
    "            \n",
    "        if s_list[j] == \"Varm\":\n",
    "            s_list[j] = \"Värmland\"\n",
    "            \n",
    "        if s_list[j] == \"Soder\":\n",
    "            s_list[j] = \"Södermanland\"\n",
    "\n",
    "        if s_list[j] == \"Jnk\":\n",
    "            s_list[j] = \"Jönköping\"\n",
    "                        \n",
    "        if s_list[j] == \"Ble\":\n",
    "            s_list[j] = \"Blekinge\"\n",
    "            \n",
    "        if s_list[j] == \"Blek\":\n",
    "            s_list[j] = \"Blekinge\"   \n",
    "    \n",
    "    if (len(s_list) > 1):\n",
    "        if ((s_list[-1] == \"Swed\") or (s_list[-1] == \"Swd\") or \n",
    "            (s_list[-1] == \"Swe\") or (s_list[-1] == \"Swdn\")):\n",
    "            #print(s_list)\n",
    "            s_list[-1] = \"Sweden\"\n",
    "            #print(s_list)\n",
    "            \n",
    "      # append \"Sweden\" if not in\n",
    "\n",
    "    string = \" \".join(s_list)\n",
    "    to_query['ns_birthplace'].loc[i] = string\n",
    "    \n",
    "    if not any(x in (to_query['ns_birthplace'].loc[i]) for x in matches):\n",
    "        to_query['ns_birthplace'].loc[i] += str(\" Sweden\")\n",
    "        \n",
    "    print(s, \"→\", to_query['ns_birthplace'].loc[i]) \n",
    "    "
   ]
  },
  {
   "cell_type": "code",
   "execution_count": null,
   "metadata": {},
   "outputs": [],
   "source": [
    "#to_query[to_query[\"ns_birthplace\"].str.contains(\" Swed \")]\n"
   ]
  },
  {
   "cell_type": "code",
   "execution_count": null,
   "metadata": {},
   "outputs": [],
   "source": [
    "#to_query.to_csv(\"full_cleaned_data.csv\")\n"
   ]
  },
  {
   "cell_type": "markdown",
   "metadata": {},
   "source": [
    "### Save and Describe \"Cleaned\" Data (Table 1, b)"
   ]
  },
  {
   "cell_type": "code",
   "execution_count": null,
   "metadata": {},
   "outputs": [],
   "source": [
    "to_query = to_query.drop_duplicates(subset=['ns_birthplace']).reset_index(drop = True)\n",
    "to_query['length']  = to_query['ns_birthplace'].str.len()\n",
    "#to_query.to_csv(\"./data/tocodeparish/cleaned_data.csv\")\n",
    "to_query['length'].describe()\n"
   ]
  },
  {
   "cell_type": "code",
   "execution_count": null,
   "metadata": {},
   "outputs": [],
   "source": [
    "to_query[to_query['birthcountry'] == \"\"]\n"
   ]
  },
  {
   "cell_type": "markdown",
   "metadata": {},
   "source": [
    "### Table of Observations (Table 2)\n",
    "This includes missing birthplaces"
   ]
  },
  {
   "cell_type": "code",
   "execution_count": null,
   "metadata": {},
   "outputs": [],
   "source": [
    "unique_bplace_post = to_query.shape[0]\n",
    "unique_countries_post = to_query.drop_duplicates(subset=['birthcountry']).shape[0]\n",
    "unique_counties_post = to_query.drop_duplicates(subset=['birthcounty']).shape[0]\n"
   ]
  },
  {
   "cell_type": "code",
   "execution_count": null,
   "metadata": {},
   "outputs": [],
   "source": [
    "total_pre = data.shape[0]\n",
    "unique_bplace_pre = data.drop_duplicates(subset=['ns_birthplace']).shape[0]\n",
    "unique_countries_pre = data.drop_duplicates(subset=['birthcountry']).shape[0]\n",
    "unique_counties_pre = data.drop_duplicates(subset=['birthcounty']).shape[0]\n"
   ]
  },
  {
   "cell_type": "code",
   "execution_count": null,
   "metadata": {},
   "outputs": [],
   "source": [
    "meta = pd.DataFrame(columns=[\"Pre\", \"Post\"], data=[[total_pre, total_post],\n",
    "                                                   [unique_bplace_pre, unique_bplace_post],\n",
    "                                                   [unique_countries_pre, unique_countries_post],\n",
    "                                                   [unique_counties_pre, unique_counties_post]])"
   ]
  },
  {
   "cell_type": "code",
   "execution_count": null,
   "metadata": {},
   "outputs": [],
   "source": [
    "meta\n",
    "# includes 1 missing birthcountry and county in each column"
   ]
  },
  {
   "cell_type": "code",
   "execution_count": null,
   "metadata": {},
   "outputs": [],
   "source": []
  }
 ],
 "metadata": {
  "kernelspec": {
   "display_name": "Python 3",
   "language": "python",
   "name": "python3"
  },
  "language_info": {
   "codemirror_mode": {
    "name": "ipython",
    "version": 3
   },
   "file_extension": ".py",
   "mimetype": "text/x-python",
   "name": "python",
   "nbconvert_exporter": "python",
   "pygments_lexer": "ipython3",
   "version": "3.8.5"
  }
 },
 "nbformat": 4,
 "nbformat_minor": 4
}
